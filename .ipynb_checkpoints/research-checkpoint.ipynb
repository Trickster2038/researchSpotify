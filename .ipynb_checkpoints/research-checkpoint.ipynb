{
 "cells": [
  {
   "cell_type": "code",
   "execution_count": 1,
   "metadata": {},
   "outputs": [],
   "source": [
    "import pandas as pd"
   ]
  },
  {
   "cell_type": "code",
   "execution_count": 3,
   "metadata": {},
   "outputs": [],
   "source": [
    "df = pd.read_csv('data.csv', sep = \"#\")"
   ]
  },
  {
   "cell_type": "code",
   "execution_count": 4,
   "metadata": {},
   "outputs": [
    {
     "data": {
      "text/html": [
       "<div>\n",
       "<style scoped>\n",
       "    .dataframe tbody tr th:only-of-type {\n",
       "        vertical-align: middle;\n",
       "    }\n",
       "\n",
       "    .dataframe tbody tr th {\n",
       "        vertical-align: top;\n",
       "    }\n",
       "\n",
       "    .dataframe thead th {\n",
       "        text-align: right;\n",
       "    }\n",
       "</style>\n",
       "<table border=\"1\" class=\"dataframe\">\n",
       "  <thead>\n",
       "    <tr style=\"text-align: right;\">\n",
       "      <th></th>\n",
       "      <th>Position</th>\n",
       "      <th>Track Name</th>\n",
       "      <th>Artist</th>\n",
       "      <th>Streams</th>\n",
       "      <th>Date</th>\n",
       "      <th>Genre</th>\n",
       "    </tr>\n",
       "  </thead>\n",
       "  <tbody>\n",
       "    <tr>\n",
       "      <th>0</th>\n",
       "      <td>1</td>\n",
       "      <td>Starboy</td>\n",
       "      <td>The Weeknd</td>\n",
       "      <td>3135625</td>\n",
       "      <td>2017-01-01</td>\n",
       "      <td>['canadian pop', 'canadian contemporary r&amp;b', ...</td>\n",
       "    </tr>\n",
       "    <tr>\n",
       "      <th>1</th>\n",
       "      <td>2</td>\n",
       "      <td>Closer</td>\n",
       "      <td>The Chainsmokers</td>\n",
       "      <td>3015525</td>\n",
       "      <td>2017-01-01</td>\n",
       "      <td>['pop', 'pop dance', 'tropical house', 'edm', ...</td>\n",
       "    </tr>\n",
       "    <tr>\n",
       "      <th>2</th>\n",
       "      <td>3</td>\n",
       "      <td>Let Me Love You</td>\n",
       "      <td>DJ Snake</td>\n",
       "      <td>2545384</td>\n",
       "      <td>2017-01-01</td>\n",
       "      <td>['pop', 'electronic trap', 'dance pop', 'edm',...</td>\n",
       "    </tr>\n",
       "    <tr>\n",
       "      <th>3</th>\n",
       "      <td>4</td>\n",
       "      <td>Rockabye (feat. Sean Paul &amp; Anne-Marie)</td>\n",
       "      <td>Clean Bandit</td>\n",
       "      <td>2356604</td>\n",
       "      <td>2017-01-01</td>\n",
       "      <td>['pop', 'uk dance', 'dance pop', 'uk funky', '...</td>\n",
       "    </tr>\n",
       "    <tr>\n",
       "      <th>4</th>\n",
       "      <td>5</td>\n",
       "      <td>One Dance</td>\n",
       "      <td>Drake</td>\n",
       "      <td>2259887</td>\n",
       "      <td>2017-01-01</td>\n",
       "      <td>['toronto rap', 'canadian pop', 'canadian hip ...</td>\n",
       "    </tr>\n",
       "  </tbody>\n",
       "</table>\n",
       "</div>"
      ],
      "text/plain": [
       "   Position                               Track Name            Artist  \\\n",
       "0         1                                  Starboy        The Weeknd   \n",
       "1         2                                   Closer  The Chainsmokers   \n",
       "2         3                          Let Me Love You          DJ Snake   \n",
       "3         4  Rockabye (feat. Sean Paul & Anne-Marie)      Clean Bandit   \n",
       "4         5                                One Dance             Drake   \n",
       "\n",
       "   Streams        Date                                              Genre  \n",
       "0  3135625  2017-01-01  ['canadian pop', 'canadian contemporary r&b', ...  \n",
       "1  3015525  2017-01-01  ['pop', 'pop dance', 'tropical house', 'edm', ...  \n",
       "2  2545384  2017-01-01  ['pop', 'electronic trap', 'dance pop', 'edm',...  \n",
       "3  2356604  2017-01-01  ['pop', 'uk dance', 'dance pop', 'uk funky', '...  \n",
       "4  2259887  2017-01-01  ['toronto rap', 'canadian pop', 'canadian hip ...  "
      ]
     },
     "execution_count": 4,
     "metadata": {},
     "output_type": "execute_result"
    }
   ],
   "source": [
    "df.head()"
   ]
  },
  {
   "cell_type": "code",
   "execution_count": 6,
   "metadata": {},
   "outputs": [
    {
     "data": {
      "text/html": [
       "<div>\n",
       "<style scoped>\n",
       "    .dataframe tbody tr th:only-of-type {\n",
       "        vertical-align: middle;\n",
       "    }\n",
       "\n",
       "    .dataframe tbody tr th {\n",
       "        vertical-align: top;\n",
       "    }\n",
       "\n",
       "    .dataframe thead th {\n",
       "        text-align: right;\n",
       "    }\n",
       "</style>\n",
       "<table border=\"1\" class=\"dataframe\">\n",
       "  <thead>\n",
       "    <tr style=\"text-align: right;\">\n",
       "      <th></th>\n",
       "      <th>Position</th>\n",
       "      <th>Track Name</th>\n",
       "      <th>Artist</th>\n",
       "      <th>Streams</th>\n",
       "      <th>Date</th>\n",
       "      <th>Genre</th>\n",
       "    </tr>\n",
       "  </thead>\n",
       "  <tbody>\n",
       "    <tr>\n",
       "      <th>199</th>\n",
       "      <td>200</td>\n",
       "      <td>Ni**as In Paris</td>\n",
       "      <td>JAY-Z</td>\n",
       "      <td>325951</td>\n",
       "      <td>2017-01-01</td>\n",
       "      <td>['rap', 'hip hop', 'east coast hip hop', 'pop ...</td>\n",
       "    </tr>\n",
       "    <tr>\n",
       "      <th>399</th>\n",
       "      <td>200</td>\n",
       "      <td>Take Me To Church</td>\n",
       "      <td>Hozier</td>\n",
       "      <td>330936</td>\n",
       "      <td>2017-01-02</td>\n",
       "      <td>['irish singer-songwriter', 'pop', 'modern rock']</td>\n",
       "    </tr>\n",
       "    <tr>\n",
       "      <th>198</th>\n",
       "      <td>199</td>\n",
       "      <td>Secrets</td>\n",
       "      <td>The Weeknd</td>\n",
       "      <td>331233</td>\n",
       "      <td>2017-01-01</td>\n",
       "      <td>['canadian pop', 'canadian contemporary r&amp;b', ...</td>\n",
       "    </tr>\n",
       "    <tr>\n",
       "      <th>197</th>\n",
       "      <td>198</td>\n",
       "      <td>Superstition - Single Version</td>\n",
       "      <td>Stevie Wonder</td>\n",
       "      <td>331376</td>\n",
       "      <td>2017-01-01</td>\n",
       "      <td>['motown', 'soul', 'quiet storm', 'indie r&amp;b',...</td>\n",
       "    </tr>\n",
       "    <tr>\n",
       "      <th>196</th>\n",
       "      <td>197</td>\n",
       "      <td>Oh Lord</td>\n",
       "      <td>MiC LOWRY</td>\n",
       "      <td>331792</td>\n",
       "      <td>2017-01-01</td>\n",
       "      <td>['pop r&amp;b', 'trap soul', 'post-teen pop', 'r&amp;b...</td>\n",
       "    </tr>\n",
       "  </tbody>\n",
       "</table>\n",
       "</div>"
      ],
      "text/plain": [
       "     Position                     Track Name         Artist  Streams  \\\n",
       "199       200                Ni**as In Paris          JAY-Z   325951   \n",
       "399       200              Take Me To Church         Hozier   330936   \n",
       "198       199                        Secrets     The Weeknd   331233   \n",
       "197       198  Superstition - Single Version  Stevie Wonder   331376   \n",
       "196       197                        Oh Lord      MiC LOWRY   331792   \n",
       "\n",
       "           Date                                              Genre  \n",
       "199  2017-01-01  ['rap', 'hip hop', 'east coast hip hop', 'pop ...  \n",
       "399  2017-01-02  ['irish singer-songwriter', 'pop', 'modern rock']  \n",
       "198  2017-01-01  ['canadian pop', 'canadian contemporary r&b', ...  \n",
       "197  2017-01-01  ['motown', 'soul', 'quiet storm', 'indie r&b',...  \n",
       "196  2017-01-01  ['pop r&b', 'trap soul', 'post-teen pop', 'r&b...  "
      ]
     },
     "execution_count": 6,
     "metadata": {},
     "output_type": "execute_result"
    }
   ],
   "source": [
    "df.sort_values('Streams').head()"
   ]
  },
  {
   "cell_type": "code",
   "execution_count": 10,
   "metadata": {},
   "outputs": [
    {
     "data": {
      "text/html": [
       "<div>\n",
       "<style scoped>\n",
       "    .dataframe tbody tr th:only-of-type {\n",
       "        vertical-align: middle;\n",
       "    }\n",
       "\n",
       "    .dataframe tbody tr th {\n",
       "        vertical-align: top;\n",
       "    }\n",
       "\n",
       "    .dataframe thead th {\n",
       "        text-align: right;\n",
       "    }\n",
       "</style>\n",
       "<table border=\"1\" class=\"dataframe\">\n",
       "  <thead>\n",
       "    <tr style=\"text-align: right;\">\n",
       "      <th></th>\n",
       "      <th>Position</th>\n",
       "      <th>Track Name</th>\n",
       "      <th>Artist</th>\n",
       "      <th>Streams</th>\n",
       "      <th>Date</th>\n",
       "      <th>Genre</th>\n",
       "    </tr>\n",
       "  </thead>\n",
       "  <tbody>\n",
       "    <tr>\n",
       "      <th>308583</th>\n",
       "      <td>184</td>\n",
       "      <td>Whats Poppin (feat. DaBaby, Tory Lanez &amp; Lil W...</td>\n",
       "      <td>Jack Harlow</td>\n",
       "      <td>759517</td>\n",
       "      <td>2021-04-02</td>\n",
       "      <td>['kentucky hip hop', 'rap', 'deep underground ...</td>\n",
       "    </tr>\n",
       "    <tr>\n",
       "      <th>309990</th>\n",
       "      <td>191</td>\n",
       "      <td>Jocelyn Flores</td>\n",
       "      <td>XXXTENTACION</td>\n",
       "      <td>815772</td>\n",
       "      <td>2021-04-09</td>\n",
       "      <td>['miami hip hop', 'emo rap']</td>\n",
       "    </tr>\n",
       "    <tr>\n",
       "      <th>114230</th>\n",
       "      <td>31</td>\n",
       "      <td>Vaina Loca</td>\n",
       "      <td>Ozuna</td>\n",
       "      <td>1695559</td>\n",
       "      <td>2018-07-30</td>\n",
       "      <td>['puerto rican pop', 'trap latino', 'reggaeton...</td>\n",
       "    </tr>\n",
       "    <tr>\n",
       "      <th>105461</th>\n",
       "      <td>62</td>\n",
       "      <td>Walk It Talk It</td>\n",
       "      <td>Migos</td>\n",
       "      <td>1071876</td>\n",
       "      <td>2018-06-16</td>\n",
       "      <td>['rap', 'atl hip hop', 'trap', 'pop rap']</td>\n",
       "    </tr>\n",
       "    <tr>\n",
       "      <th>310329</th>\n",
       "      <td>130</td>\n",
       "      <td>Breathe (feat. Colbie Caillat) (Taylor’s Version)</td>\n",
       "      <td>Taylor Swift</td>\n",
       "      <td>841149</td>\n",
       "      <td>2021-04-11</td>\n",
       "      <td>['pop', 'post-teen pop']</td>\n",
       "    </tr>\n",
       "  </tbody>\n",
       "</table>\n",
       "</div>"
      ],
      "text/plain": [
       "        Position                                         Track Name  \\\n",
       "308583       184  Whats Poppin (feat. DaBaby, Tory Lanez & Lil W...   \n",
       "309990       191                                     Jocelyn Flores   \n",
       "114230        31                                         Vaina Loca   \n",
       "105461        62                                    Walk It Talk It   \n",
       "310329       130  Breathe (feat. Colbie Caillat) (Taylor’s Version)   \n",
       "\n",
       "              Artist  Streams        Date  \\\n",
       "308583   Jack Harlow   759517  2021-04-02   \n",
       "309990  XXXTENTACION   815772  2021-04-09   \n",
       "114230         Ozuna  1695559  2018-07-30   \n",
       "105461         Migos  1071876  2018-06-16   \n",
       "310329  Taylor Swift   841149  2021-04-11   \n",
       "\n",
       "                                                    Genre  \n",
       "308583  ['kentucky hip hop', 'rap', 'deep underground ...  \n",
       "309990                       ['miami hip hop', 'emo rap']  \n",
       "114230  ['puerto rican pop', 'trap latino', 'reggaeton...  \n",
       "105461          ['rap', 'atl hip hop', 'trap', 'pop rap']  \n",
       "310329                           ['pop', 'post-teen pop']  "
      ]
     },
     "execution_count": 10,
     "metadata": {},
     "output_type": "execute_result"
    }
   ],
   "source": [
    "df.sample(frac=0.1).head()"
   ]
  },
  {
   "cell_type": "code",
   "execution_count": 17,
   "metadata": {},
   "outputs": [
    {
     "data": {
      "text/html": [
       "<div>\n",
       "<style scoped>\n",
       "    .dataframe tbody tr th:only-of-type {\n",
       "        vertical-align: middle;\n",
       "    }\n",
       "\n",
       "    .dataframe tbody tr th {\n",
       "        vertical-align: top;\n",
       "    }\n",
       "\n",
       "    .dataframe thead th {\n",
       "        text-align: right;\n",
       "    }\n",
       "</style>\n",
       "<table border=\"1\" class=\"dataframe\">\n",
       "  <thead>\n",
       "    <tr style=\"text-align: right;\">\n",
       "      <th></th>\n",
       "      <th>Streams</th>\n",
       "    </tr>\n",
       "    <tr>\n",
       "      <th>Date</th>\n",
       "      <th></th>\n",
       "    </tr>\n",
       "  </thead>\n",
       "  <tbody>\n",
       "    <tr>\n",
       "      <th>2017-01-01</th>\n",
       "      <td>148613167</td>\n",
       "    </tr>\n",
       "    <tr>\n",
       "      <th>2017-01-02</th>\n",
       "      <td>154810836</td>\n",
       "    </tr>\n",
       "    <tr>\n",
       "      <th>2017-01-03</th>\n",
       "      <td>166239930</td>\n",
       "    </tr>\n",
       "    <tr>\n",
       "      <th>2017-01-04</th>\n",
       "      <td>169252507</td>\n",
       "    </tr>\n",
       "    <tr>\n",
       "      <th>2017-01-05</th>\n",
       "      <td>169919094</td>\n",
       "    </tr>\n",
       "  </tbody>\n",
       "</table>\n",
       "</div>"
      ],
      "text/plain": [
       "              Streams\n",
       "Date                 \n",
       "2017-01-01  148613167\n",
       "2017-01-02  154810836\n",
       "2017-01-03  166239930\n",
       "2017-01-04  169252507\n",
       "2017-01-05  169919094"
      ]
     },
     "execution_count": 17,
     "metadata": {},
     "output_type": "execute_result"
    }
   ],
   "source": [
    "df_time = df.groupby('Date').sum()[['Streams']]\n",
    "df_time.head()"
   ]
  },
  {
   "cell_type": "code",
   "execution_count": 18,
   "metadata": {},
   "outputs": [],
   "source": [
    "import seaborn as sns"
   ]
  },
  {
   "cell_type": "code",
   "execution_count": 20,
   "metadata": {},
   "outputs": [
    {
     "data": {
      "text/plain": [
       "<AxesSubplot:xlabel='Date', ylabel='Streams'>"
      ]
     },
     "execution_count": 20,
     "metadata": {},
     "output_type": "execute_result"
    },
    {
     "data": {
      "image/png": "[encoded data removed]",
      "text/plain": [
       "<Figure size 432x288 with 1 Axes>"
      ]
     },
     "metadata": {
      "needs_background": "light"
     },
     "output_type": "display_data"
    }
   ],
   "source": [
    "sns.lineplot(x=df_time.index, y=df_time.Streams)"
   ]
  },
  {
   "cell_type": "code",
   "execution_count": null,
   "metadata": {},
   "outputs": [],
   "source": [
    "ts = pd.Series(df[\"Streams\"].values, index=df.index)\n",
    "mean_smoothed = ts.rolling(window=30).mean()\n",
    "# mean_smoothed\n",
    "df2 = pd.DataFrame(mean_smoothed)\n",
    "df2.columns = [\"MA\"]\n",
    "df3 = pd.concat([df, df2], axis=1).query(\"MA == MA\")\n",
    "df3.head()"
   ]
  }
 ],
 "metadata": {
  "kernelspec": {
   "display_name": "Python 3",
   "language": "python",
   "name": "python3"
  },
  "language_info": {
   "codemirror_mode": {
    "name": "ipython",
    "version": 3
   },
   "file_extension": ".py",
   "mimetype": "text/x-python",
   "name": "python",
   "nbconvert_exporter": "python",
   "pygments_lexer": "ipython3",
   "version": "3.8.5"
  }
 },
 "nbformat": 4,
 "nbformat_minor": 4
}
