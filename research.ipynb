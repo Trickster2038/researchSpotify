{
 "cells": [
  {
   "cell_type": "code",
   "execution_count": 9,
   "metadata": {},
   "outputs": [],
   "source": [
    "import pandas as pd"
   ]
  },
  {
   "cell_type": "code",
   "execution_count": 10,
   "metadata": {},
   "outputs": [],
   "source": [
    "df = pd.read_csv('data.csv', sep = \"#\")"
   ]
  },
  {
   "cell_type": "code",
   "execution_count": 11,
   "metadata": {},
   "outputs": [
    {
     "data": {
      "text/html": [
       "<div>\n",
       "<style scoped>\n",
       "    .dataframe tbody tr th:only-of-type {\n",
       "        vertical-align: middle;\n",
       "    }\n",
       "\n",
       "    .dataframe tbody tr th {\n",
       "        vertical-align: top;\n",
       "    }\n",
       "\n",
       "    .dataframe thead th {\n",
       "        text-align: right;\n",
       "    }\n",
       "</style>\n",
       "<table border=\"1\" class=\"dataframe\">\n",
       "  <thead>\n",
       "    <tr style=\"text-align: right;\">\n",
       "      <th></th>\n",
       "      <th>Position</th>\n",
       "      <th>Track Name</th>\n",
       "      <th>Artist</th>\n",
       "      <th>Streams</th>\n",
       "      <th>Date</th>\n",
       "      <th>Genre</th>\n",
       "    </tr>\n",
       "  </thead>\n",
       "  <tbody>\n",
       "    <tr>\n",
       "      <th>0</th>\n",
       "      <td>1</td>\n",
       "      <td>Starboy</td>\n",
       "      <td>The Weeknd</td>\n",
       "      <td>3135625</td>\n",
       "      <td>2017-01-01</td>\n",
       "      <td>['canadian pop', 'canadian contemporary r&amp;b', ...</td>\n",
       "    </tr>\n",
       "    <tr>\n",
       "      <th>1</th>\n",
       "      <td>2</td>\n",
       "      <td>Closer</td>\n",
       "      <td>The Chainsmokers</td>\n",
       "      <td>3015525</td>\n",
       "      <td>2017-01-01</td>\n",
       "      <td>['pop', 'pop dance', 'tropical house', 'edm', ...</td>\n",
       "    </tr>\n",
       "    <tr>\n",
       "      <th>2</th>\n",
       "      <td>3</td>\n",
       "      <td>Let Me Love You</td>\n",
       "      <td>DJ Snake</td>\n",
       "      <td>2545384</td>\n",
       "      <td>2017-01-01</td>\n",
       "      <td>['pop', 'electronic trap', 'dance pop', 'edm',...</td>\n",
       "    </tr>\n",
       "    <tr>\n",
       "      <th>3</th>\n",
       "      <td>4</td>\n",
       "      <td>Rockabye (feat. Sean Paul &amp; Anne-Marie)</td>\n",
       "      <td>Clean Bandit</td>\n",
       "      <td>2356604</td>\n",
       "      <td>2017-01-01</td>\n",
       "      <td>['pop', 'uk dance', 'dance pop', 'uk funky', '...</td>\n",
       "    </tr>\n",
       "    <tr>\n",
       "      <th>4</th>\n",
       "      <td>5</td>\n",
       "      <td>One Dance</td>\n",
       "      <td>Drake</td>\n",
       "      <td>2259887</td>\n",
       "      <td>2017-01-01</td>\n",
       "      <td>['toronto rap', 'canadian pop', 'canadian hip ...</td>\n",
       "    </tr>\n",
       "  </tbody>\n",
       "</table>\n",
       "</div>"
      ],
      "text/plain": [
       "   Position                               Track Name            Artist  \\\n",
       "0         1                                  Starboy        The Weeknd   \n",
       "1         2                                   Closer  The Chainsmokers   \n",
       "2         3                          Let Me Love You          DJ Snake   \n",
       "3         4  Rockabye (feat. Sean Paul & Anne-Marie)      Clean Bandit   \n",
       "4         5                                One Dance             Drake   \n",
       "\n",
       "   Streams        Date                                              Genre  \n",
       "0  3135625  2017-01-01  ['canadian pop', 'canadian contemporary r&b', ...  \n",
       "1  3015525  2017-01-01  ['pop', 'pop dance', 'tropical house', 'edm', ...  \n",
       "2  2545384  2017-01-01  ['pop', 'electronic trap', 'dance pop', 'edm',...  \n",
       "3  2356604  2017-01-01  ['pop', 'uk dance', 'dance pop', 'uk funky', '...  \n",
       "4  2259887  2017-01-01  ['toronto rap', 'canadian pop', 'canadian hip ...  "
      ]
     },
     "execution_count": 11,
     "metadata": {},
     "output_type": "execute_result"
    }
   ],
   "source": [
    "df.head()"
   ]
  },
  {
   "cell_type": "code",
   "execution_count": 12,
   "metadata": {},
   "outputs": [
    {
     "data": {
      "text/html": [
       "<div>\n",
       "<style scoped>\n",
       "    .dataframe tbody tr th:only-of-type {\n",
       "        vertical-align: middle;\n",
       "    }\n",
       "\n",
       "    .dataframe tbody tr th {\n",
       "        vertical-align: top;\n",
       "    }\n",
       "\n",
       "    .dataframe thead th {\n",
       "        text-align: right;\n",
       "    }\n",
       "</style>\n",
       "<table border=\"1\" class=\"dataframe\">\n",
       "  <thead>\n",
       "    <tr style=\"text-align: right;\">\n",
       "      <th></th>\n",
       "      <th>Position</th>\n",
       "      <th>Track Name</th>\n",
       "      <th>Artist</th>\n",
       "      <th>Streams</th>\n",
       "      <th>Date</th>\n",
       "      <th>Genre</th>\n",
       "    </tr>\n",
       "  </thead>\n",
       "  <tbody>\n",
       "    <tr>\n",
       "      <th>199</th>\n",
       "      <td>200</td>\n",
       "      <td>Ni**as In Paris</td>\n",
       "      <td>JAY-Z</td>\n",
       "      <td>325951</td>\n",
       "      <td>2017-01-01</td>\n",
       "      <td>['rap', 'hip hop', 'east coast hip hop', 'pop ...</td>\n",
       "    </tr>\n",
       "    <tr>\n",
       "      <th>399</th>\n",
       "      <td>200</td>\n",
       "      <td>Take Me To Church</td>\n",
       "      <td>Hozier</td>\n",
       "      <td>330936</td>\n",
       "      <td>2017-01-02</td>\n",
       "      <td>['irish singer-songwriter', 'pop', 'modern rock']</td>\n",
       "    </tr>\n",
       "    <tr>\n",
       "      <th>198</th>\n",
       "      <td>199</td>\n",
       "      <td>Secrets</td>\n",
       "      <td>The Weeknd</td>\n",
       "      <td>331233</td>\n",
       "      <td>2017-01-01</td>\n",
       "      <td>['canadian pop', 'canadian contemporary r&amp;b', ...</td>\n",
       "    </tr>\n",
       "    <tr>\n",
       "      <th>197</th>\n",
       "      <td>198</td>\n",
       "      <td>Superstition - Single Version</td>\n",
       "      <td>Stevie Wonder</td>\n",
       "      <td>331376</td>\n",
       "      <td>2017-01-01</td>\n",
       "      <td>['motown', 'soul', 'quiet storm', 'indie r&amp;b',...</td>\n",
       "    </tr>\n",
       "    <tr>\n",
       "      <th>196</th>\n",
       "      <td>197</td>\n",
       "      <td>Oh Lord</td>\n",
       "      <td>MiC LOWRY</td>\n",
       "      <td>331792</td>\n",
       "      <td>2017-01-01</td>\n",
       "      <td>['pop r&amp;b', 'trap soul', 'post-teen pop', 'r&amp;b...</td>\n",
       "    </tr>\n",
       "  </tbody>\n",
       "</table>\n",
       "</div>"
      ],
      "text/plain": [
       "     Position                     Track Name         Artist  Streams  \\\n",
       "199       200                Ni**as In Paris          JAY-Z   325951   \n",
       "399       200              Take Me To Church         Hozier   330936   \n",
       "198       199                        Secrets     The Weeknd   331233   \n",
       "197       198  Superstition - Single Version  Stevie Wonder   331376   \n",
       "196       197                        Oh Lord      MiC LOWRY   331792   \n",
       "\n",
       "           Date                                              Genre  \n",
       "199  2017-01-01  ['rap', 'hip hop', 'east coast hip hop', 'pop ...  \n",
       "399  2017-01-02  ['irish singer-songwriter', 'pop', 'modern rock']  \n",
       "198  2017-01-01  ['canadian pop', 'canadian contemporary r&b', ...  \n",
       "197  2017-01-01  ['motown', 'soul', 'quiet storm', 'indie r&b',...  \n",
       "196  2017-01-01  ['pop r&b', 'trap soul', 'post-teen pop', 'r&b...  "
      ]
     },
     "execution_count": 12,
     "metadata": {},
     "output_type": "execute_result"
    }
   ],
   "source": [
    "df.sort_values('Streams').head()"
   ]
  },
  {
   "cell_type": "code",
   "execution_count": 13,
   "metadata": {},
   "outputs": [
    {
     "data": {
      "text/html": [
       "<div>\n",
       "<style scoped>\n",
       "    .dataframe tbody tr th:only-of-type {\n",
       "        vertical-align: middle;\n",
       "    }\n",
       "\n",
       "    .dataframe tbody tr th {\n",
       "        vertical-align: top;\n",
       "    }\n",
       "\n",
       "    .dataframe thead th {\n",
       "        text-align: right;\n",
       "    }\n",
       "</style>\n",
       "<table border=\"1\" class=\"dataframe\">\n",
       "  <thead>\n",
       "    <tr style=\"text-align: right;\">\n",
       "      <th></th>\n",
       "      <th>Position</th>\n",
       "      <th>Track Name</th>\n",
       "      <th>Artist</th>\n",
       "      <th>Streams</th>\n",
       "      <th>Date</th>\n",
       "      <th>Genre</th>\n",
       "    </tr>\n",
       "  </thead>\n",
       "  <tbody>\n",
       "    <tr>\n",
       "      <th>179086</th>\n",
       "      <td>87</td>\n",
       "      <td>MIA (feat. Drake)</td>\n",
       "      <td>Bad Bunny</td>\n",
       "      <td>1010494</td>\n",
       "      <td>2019-06-19</td>\n",
       "      <td>['trap latino', 'reggaeton', 'latin']</td>\n",
       "    </tr>\n",
       "    <tr>\n",
       "      <th>56061</th>\n",
       "      <td>62</td>\n",
       "      <td>Báilame - Remix</td>\n",
       "      <td>Nacho</td>\n",
       "      <td>1042215</td>\n",
       "      <td>2017-10-12</td>\n",
       "      <td>['pop venezolano', 'pop reggaeton', 'pop perua...</td>\n",
       "    </tr>\n",
       "    <tr>\n",
       "      <th>315193</th>\n",
       "      <td>194</td>\n",
       "      <td>Come &amp; Go (with Marshmello)</td>\n",
       "      <td>Juice WRLD</td>\n",
       "      <td>720907</td>\n",
       "      <td>2021-05-05</td>\n",
       "      <td>['melodic rap', 'chicago rap']</td>\n",
       "    </tr>\n",
       "    <tr>\n",
       "      <th>139528</th>\n",
       "      <td>129</td>\n",
       "      <td>Ya No Tiene Novio</td>\n",
       "      <td>Sebastian Yatra</td>\n",
       "      <td>843103</td>\n",
       "      <td>2018-12-03</td>\n",
       "      <td>['reggaeton colombiano', 'colombian pop', 'reg...</td>\n",
       "    </tr>\n",
       "    <tr>\n",
       "      <th>88440</th>\n",
       "      <td>41</td>\n",
       "      <td>Sick Boy</td>\n",
       "      <td>The Chainsmokers</td>\n",
       "      <td>1556003</td>\n",
       "      <td>2018-03-23</td>\n",
       "      <td>['pop', 'pop dance', 'tropical house', 'edm', ...</td>\n",
       "    </tr>\n",
       "  </tbody>\n",
       "</table>\n",
       "</div>"
      ],
      "text/plain": [
       "        Position                   Track Name            Artist  Streams  \\\n",
       "179086        87            MIA (feat. Drake)         Bad Bunny  1010494   \n",
       "56061         62              Báilame - Remix             Nacho  1042215   \n",
       "315193       194  Come & Go (with Marshmello)        Juice WRLD   720907   \n",
       "139528       129            Ya No Tiene Novio   Sebastian Yatra   843103   \n",
       "88440         41                     Sick Boy  The Chainsmokers  1556003   \n",
       "\n",
       "              Date                                              Genre  \n",
       "179086  2019-06-19              ['trap latino', 'reggaeton', 'latin']  \n",
       "56061   2017-10-12  ['pop venezolano', 'pop reggaeton', 'pop perua...  \n",
       "315193  2021-05-05                     ['melodic rap', 'chicago rap']  \n",
       "139528  2018-12-03  ['reggaeton colombiano', 'colombian pop', 'reg...  \n",
       "88440   2018-03-23  ['pop', 'pop dance', 'tropical house', 'edm', ...  "
      ]
     },
     "execution_count": 13,
     "metadata": {},
     "output_type": "execute_result"
    }
   ],
   "source": [
    "df.sample(frac=0.1).head()"
   ]
  },
  {
   "cell_type": "code",
   "execution_count": 14,
   "metadata": {},
   "outputs": [
    {
     "data": {
      "text/html": [
       "<div>\n",
       "<style scoped>\n",
       "    .dataframe tbody tr th:only-of-type {\n",
       "        vertical-align: middle;\n",
       "    }\n",
       "\n",
       "    .dataframe tbody tr th {\n",
       "        vertical-align: top;\n",
       "    }\n",
       "\n",
       "    .dataframe thead th {\n",
       "        text-align: right;\n",
       "    }\n",
       "</style>\n",
       "<table border=\"1\" class=\"dataframe\">\n",
       "  <thead>\n",
       "    <tr style=\"text-align: right;\">\n",
       "      <th></th>\n",
       "      <th>Streams</th>\n",
       "    </tr>\n",
       "    <tr>\n",
       "      <th>Date</th>\n",
       "      <th></th>\n",
       "    </tr>\n",
       "  </thead>\n",
       "  <tbody>\n",
       "    <tr>\n",
       "      <th>2017-01-01</th>\n",
       "      <td>148613167</td>\n",
       "    </tr>\n",
       "    <tr>\n",
       "      <th>2017-01-02</th>\n",
       "      <td>154810836</td>\n",
       "    </tr>\n",
       "    <tr>\n",
       "      <th>2017-01-03</th>\n",
       "      <td>166239930</td>\n",
       "    </tr>\n",
       "    <tr>\n",
       "      <th>2017-01-04</th>\n",
       "      <td>169252507</td>\n",
       "    </tr>\n",
       "    <tr>\n",
       "      <th>2017-01-05</th>\n",
       "      <td>169919094</td>\n",
       "    </tr>\n",
       "  </tbody>\n",
       "</table>\n",
       "</div>"
      ],
      "text/plain": [
       "              Streams\n",
       "Date                 \n",
       "2017-01-01  148613167\n",
       "2017-01-02  154810836\n",
       "2017-01-03  166239930\n",
       "2017-01-04  169252507\n",
       "2017-01-05  169919094"
      ]
     },
     "execution_count": 14,
     "metadata": {},
     "output_type": "execute_result"
    }
   ],
   "source": [
    "df_time = df.groupby('Date').sum()[['Streams']]\n",
    "df_time.head()"
   ]
  },
  {
   "cell_type": "code",
   "execution_count": 15,
   "metadata": {},
   "outputs": [],
   "source": [
    "import seaborn as sns"
   ]
  },
  {
   "cell_type": "code",
   "execution_count": 16,
   "metadata": {},
   "outputs": [
    {
     "data": {
      "text/plain": [
       "<AxesSubplot:xlabel='Date', ylabel='Streams'>"
      ]
     },
     "execution_count": 16,
     "metadata": {},
     "output_type": "execute_result"
    },
    {
     "data": {
      "image/png": "[encoded data removed]",
      "text/plain": [
       "<Figure size 432x288 with 1 Axes>"
      ]
     },
     "metadata": {
      "needs_background": "light"
     },
     "output_type": "display_data"
    }
   ],
   "source": [
    "sns.lineplot(x=df_time.index, y=df_time.Streams)"
   ]
  },
  {
   "cell_type": "code",
   "execution_count": 37,
   "metadata": {},
   "outputs": [
    {
     "data": {
      "text/html": [
       "<div>\n",
       "<style scoped>\n",
       "    .dataframe tbody tr th:only-of-type {\n",
       "        vertical-align: middle;\n",
       "    }\n",
       "\n",
       "    .dataframe tbody tr th {\n",
       "        vertical-align: top;\n",
       "    }\n",
       "\n",
       "    .dataframe thead th {\n",
       "        text-align: right;\n",
       "    }\n",
       "</style>\n",
       "<table border=\"1\" class=\"dataframe\">\n",
       "  <thead>\n",
       "    <tr style=\"text-align: right;\">\n",
       "      <th></th>\n",
       "      <th>Streams</th>\n",
       "      <th>MA</th>\n",
       "    </tr>\n",
       "    <tr>\n",
       "      <th>Date</th>\n",
       "      <th></th>\n",
       "      <th></th>\n",
       "    </tr>\n",
       "  </thead>\n",
       "  <tbody>\n",
       "    <tr>\n",
       "      <th>2017-01-30</th>\n",
       "      <td>182877456</td>\n",
       "      <td>1.800430e+08</td>\n",
       "    </tr>\n",
       "    <tr>\n",
       "      <th>2017-01-31</th>\n",
       "      <td>190191924</td>\n",
       "      <td>1.814290e+08</td>\n",
       "    </tr>\n",
       "    <tr>\n",
       "      <th>2017-02-01</th>\n",
       "      <td>193633315</td>\n",
       "      <td>1.827231e+08</td>\n",
       "    </tr>\n",
       "    <tr>\n",
       "      <th>2017-02-02</th>\n",
       "      <td>194517087</td>\n",
       "      <td>1.836656e+08</td>\n",
       "    </tr>\n",
       "    <tr>\n",
       "      <th>2017-02-03</th>\n",
       "      <td>206406926</td>\n",
       "      <td>1.849041e+08</td>\n",
       "    </tr>\n",
       "  </tbody>\n",
       "</table>\n",
       "</div>"
      ],
      "text/plain": [
       "              Streams            MA\n",
       "Date                               \n",
       "2017-01-30  182877456  1.800430e+08\n",
       "2017-01-31  190191924  1.814290e+08\n",
       "2017-02-01  193633315  1.827231e+08\n",
       "2017-02-02  194517087  1.836656e+08\n",
       "2017-02-03  206406926  1.849041e+08"
      ]
     },
     "execution_count": 37,
     "metadata": {},
     "output_type": "execute_result"
    }
   ],
   "source": [
    "df3 = []\n",
    "ts = pd.Series(df_time[\"Streams\"].values, index=df_time.index)\n",
    "mean_smoothed = ts.rolling(window=30).mean()\n",
    "# mean_smoothed\n",
    "df2 = pd.DataFrame(mean_smoothed)\n",
    "df2.columns = [\"MA\"]\n",
    "df3 = pd.concat([df_time, df2], axis=1).query(\"MA == MA\")\n",
    "df3.head()"
   ]
  },
  {
   "cell_type": "code",
   "execution_count": 18,
   "metadata": {},
   "outputs": [
    {
     "data": {
      "text/plain": [
       "<AxesSubplot:xlabel='Date', ylabel='MA'>"
      ]
     },
     "execution_count": 18,
     "metadata": {},
     "output_type": "execute_result"
    },
    {
     "data": {
      "image/png": "[encoded data removed]",
      "text/plain": [
       "<Figure size 432x288 with 1 Axes>"
      ]
     },
     "metadata": {
      "needs_background": "light"
     },
     "output_type": "display_data"
    }
   ],
   "source": [
    "#df3_s = df3.sample(frac = 0.1)\n",
    "sns.lineplot(x=df3.index, y=df3.MA)"
   ]
  },
  {
   "cell_type": "code",
   "execution_count": 51,
   "metadata": {},
   "outputs": [
    {
     "data": {
      "text/html": [
       "<div>\n",
       "<style scoped>\n",
       "    .dataframe tbody tr th:only-of-type {\n",
       "        vertical-align: middle;\n",
       "    }\n",
       "\n",
       "    .dataframe tbody tr th {\n",
       "        vertical-align: top;\n",
       "    }\n",
       "\n",
       "    .dataframe thead th {\n",
       "        text-align: right;\n",
       "    }\n",
       "</style>\n",
       "<table border=\"1\" class=\"dataframe\">\n",
       "  <thead>\n",
       "    <tr style=\"text-align: right;\">\n",
       "      <th></th>\n",
       "      <th>Streams</th>\n",
       "      <th>MA</th>\n",
       "      <th>date</th>\n",
       "    </tr>\n",
       "    <tr>\n",
       "      <th>Date</th>\n",
       "      <th></th>\n",
       "      <th></th>\n",
       "      <th></th>\n",
       "    </tr>\n",
       "  </thead>\n",
       "  <tbody>\n",
       "    <tr>\n",
       "      <th>2017-01-30</th>\n",
       "      <td>182877456</td>\n",
       "      <td>1.800430e+08</td>\n",
       "      <td>2017-01-30</td>\n",
       "    </tr>\n",
       "    <tr>\n",
       "      <th>2017-01-31</th>\n",
       "      <td>190191924</td>\n",
       "      <td>1.814290e+08</td>\n",
       "      <td>2017-01-31</td>\n",
       "    </tr>\n",
       "    <tr>\n",
       "      <th>2017-02-01</th>\n",
       "      <td>193633315</td>\n",
       "      <td>1.827231e+08</td>\n",
       "      <td>2017-02-01</td>\n",
       "    </tr>\n",
       "    <tr>\n",
       "      <th>2017-02-02</th>\n",
       "      <td>194517087</td>\n",
       "      <td>1.836656e+08</td>\n",
       "      <td>2017-02-02</td>\n",
       "    </tr>\n",
       "    <tr>\n",
       "      <th>2017-02-03</th>\n",
       "      <td>206406926</td>\n",
       "      <td>1.849041e+08</td>\n",
       "      <td>2017-02-03</td>\n",
       "    </tr>\n",
       "  </tbody>\n",
       "</table>\n",
       "</div>"
      ],
      "text/plain": [
       "              Streams            MA       date\n",
       "Date                                          \n",
       "2017-01-30  182877456  1.800430e+08 2017-01-30\n",
       "2017-01-31  190191924  1.814290e+08 2017-01-31\n",
       "2017-02-01  193633315  1.827231e+08 2017-02-01\n",
       "2017-02-02  194517087  1.836656e+08 2017-02-02\n",
       "2017-02-03  206406926  1.849041e+08 2017-02-03"
      ]
     },
     "execution_count": 51,
     "metadata": {},
     "output_type": "execute_result"
    }
   ],
   "source": [
    "#df3['date'] = df3.index\n",
    "df3['date'] = pd.to_datetime(df3.index, format='%Y-%m-%d')\n",
    "df3['ts'] \n",
    "df3.head()"
   ]
  },
  {
   "cell_type": "code",
   "execution_count": 70,
   "metadata": {},
   "outputs": [
    {
     "data": {
      "text/plain": [
       "date\n",
       "2017-01-30    182877456\n",
       "2017-01-31    190191924\n",
       "2017-02-01    193633315\n",
       "2017-02-02    194517087\n",
       "2017-02-03    206406926\n",
       "                ...    \n",
       "2021-07-13    275809233\n",
       "2021-07-14    276827299\n",
       "2021-07-15    279502493\n",
       "2021-07-16    312799651\n",
       "2021-07-17    294531580\n",
       "Freq: D, Name: Streams, Length: 1577, dtype: int64"
      ]
     },
     "execution_count": 70,
     "metadata": {},
     "output_type": "execute_result"
    }
   ],
   "source": [
    "from datetime import datetime\n",
    "#df.index = pd.DatetimeIndex(df.index).to_period('M')\n",
    "tseries = pd.Series(df3.Streams, index=df3.date)\n",
    "tseries.index = pd.DatetimeIndex(tseries.index).to_period('D')\n",
    "tseries"
   ]
  },
  {
   "cell_type": "code",
   "execution_count": 71,
   "metadata": {},
   "outputs": [],
   "source": [
    "from statsmodels.tsa.ar_model import AutoReg, ar_select_order"
   ]
  },
  {
   "cell_type": "code",
   "execution_count": 81,
   "metadata": {},
   "outputs": [
    {
     "data": {
      "text/plain": [
       "date\n",
       "2017-02-19    1.892271e+08\n",
       "2017-02-20    1.903357e+08\n",
       "2017-02-21    1.996661e+08\n",
       "2017-02-22    1.968770e+08\n",
       "2017-02-24    2.031459e+08\n",
       "                  ...     \n",
       "2021-07-13    2.786795e+08\n",
       "2021-07-14    2.675430e+08\n",
       "2021-07-15    2.745495e+08\n",
       "2021-07-16    3.104937e+08\n",
       "2021-07-17    2.877291e+08\n",
       "Freq: D, Length: 1557, dtype: float64"
      ]
     },
     "execution_count": 81,
     "metadata": {},
     "output_type": "execute_result"
    }
   ],
   "source": [
    "selection_res = ar_select_order(tseries, 100, old_names=True)\n",
    "pandas_ar_res = selection_res.model.fit()\n",
    "pred = pandas_ar_res.predict()\n",
    "pred[20:]"
   ]
  },
  {
   "cell_type": "code",
   "execution_count": 86,
   "metadata": {},
   "outputs": [],
   "source": [
    "#fig = pandas_ar_res.plot_predict(start='2017', end='2021')"
   ]
  },
  {
   "cell_type": "code",
   "execution_count": 85,
   "metadata": {},
   "outputs": [
    {
     "data": {
      "text/plain": [
       "<AxesSubplot:xlabel='date'>"
      ]
     },
     "execution_count": 85,
     "metadata": {},
     "output_type": "execute_result"
    },
    {
     "data": {
      "image/png": "[encoded data removed]",
      "text/plain": [
       "<Figure size 432x288 with 1 Axes>"
      ]
     },
     "metadata": {
      "needs_background": "light"
     },
     "output_type": "display_data"
    }
   ],
   "source": [
    "pred.plot()"
   ]
  },
  {
   "cell_type": "code",
   "execution_count": 90,
   "metadata": {},
   "outputs": [
    {
     "data": {
      "text/html": [
       "<div>\n",
       "<style scoped>\n",
       "    .dataframe tbody tr th:only-of-type {\n",
       "        vertical-align: middle;\n",
       "    }\n",
       "\n",
       "    .dataframe tbody tr th {\n",
       "        vertical-align: top;\n",
       "    }\n",
       "\n",
       "    .dataframe thead th {\n",
       "        text-align: right;\n",
       "    }\n",
       "</style>\n",
       "<table border=\"1\" class=\"dataframe\">\n",
       "  <thead>\n",
       "    <tr style=\"text-align: right;\">\n",
       "      <th></th>\n",
       "      <th>Streams</th>\n",
       "      <th>MA</th>\n",
       "      <th>date</th>\n",
       "      <th>ts</th>\n",
       "    </tr>\n",
       "    <tr>\n",
       "      <th>Date</th>\n",
       "      <th></th>\n",
       "      <th></th>\n",
       "      <th></th>\n",
       "      <th></th>\n",
       "    </tr>\n",
       "  </thead>\n",
       "  <tbody>\n",
       "    <tr>\n",
       "      <th>2017-01-30</th>\n",
       "      <td>182877456</td>\n",
       "      <td>1.800430e+08</td>\n",
       "      <td>2017-01-30</td>\n",
       "      <td>1485734400000000000</td>\n",
       "    </tr>\n",
       "    <tr>\n",
       "      <th>2017-01-31</th>\n",
       "      <td>190191924</td>\n",
       "      <td>1.814290e+08</td>\n",
       "      <td>2017-01-31</td>\n",
       "      <td>1485820800000000000</td>\n",
       "    </tr>\n",
       "    <tr>\n",
       "      <th>2017-02-01</th>\n",
       "      <td>193633315</td>\n",
       "      <td>1.827231e+08</td>\n",
       "      <td>2017-02-01</td>\n",
       "      <td>1485907200000000000</td>\n",
       "    </tr>\n",
       "    <tr>\n",
       "      <th>2017-02-02</th>\n",
       "      <td>194517087</td>\n",
       "      <td>1.836656e+08</td>\n",
       "      <td>2017-02-02</td>\n",
       "      <td>1485993600000000000</td>\n",
       "    </tr>\n",
       "    <tr>\n",
       "      <th>2017-02-03</th>\n",
       "      <td>206406926</td>\n",
       "      <td>1.849041e+08</td>\n",
       "      <td>2017-02-03</td>\n",
       "      <td>1486080000000000000</td>\n",
       "    </tr>\n",
       "    <tr>\n",
       "      <th>...</th>\n",
       "      <td>...</td>\n",
       "      <td>...</td>\n",
       "      <td>...</td>\n",
       "      <td>...</td>\n",
       "    </tr>\n",
       "    <tr>\n",
       "      <th>2021-07-13</th>\n",
       "      <td>275809233</td>\n",
       "      <td>2.706516e+08</td>\n",
       "      <td>2021-07-13</td>\n",
       "      <td>1626134400000000000</td>\n",
       "    </tr>\n",
       "    <tr>\n",
       "      <th>2021-07-14</th>\n",
       "      <td>276827299</td>\n",
       "      <td>2.717581e+08</td>\n",
       "      <td>2021-07-14</td>\n",
       "      <td>1626220800000000000</td>\n",
       "    </tr>\n",
       "    <tr>\n",
       "      <th>2021-07-15</th>\n",
       "      <td>279502493</td>\n",
       "      <td>2.726997e+08</td>\n",
       "      <td>2021-07-15</td>\n",
       "      <td>1626307200000000000</td>\n",
       "    </tr>\n",
       "    <tr>\n",
       "      <th>2021-07-16</th>\n",
       "      <td>312799651</td>\n",
       "      <td>2.746431e+08</td>\n",
       "      <td>2021-07-16</td>\n",
       "      <td>1626393600000000000</td>\n",
       "    </tr>\n",
       "    <tr>\n",
       "      <th>2021-07-17</th>\n",
       "      <td>294531580</td>\n",
       "      <td>2.759330e+08</td>\n",
       "      <td>2021-07-17</td>\n",
       "      <td>1626480000000000000</td>\n",
       "    </tr>\n",
       "  </tbody>\n",
       "</table>\n",
       "<p>1577 rows × 4 columns</p>\n",
       "</div>"
      ],
      "text/plain": [
       "              Streams            MA       date                   ts\n",
       "Date                                                               \n",
       "2017-01-30  182877456  1.800430e+08 2017-01-30  1485734400000000000\n",
       "2017-01-31  190191924  1.814290e+08 2017-01-31  1485820800000000000\n",
       "2017-02-01  193633315  1.827231e+08 2017-02-01  1485907200000000000\n",
       "2017-02-02  194517087  1.836656e+08 2017-02-02  1485993600000000000\n",
       "2017-02-03  206406926  1.849041e+08 2017-02-03  1486080000000000000\n",
       "...               ...           ...        ...                  ...\n",
       "2021-07-13  275809233  2.706516e+08 2021-07-13  1626134400000000000\n",
       "2021-07-14  276827299  2.717581e+08 2021-07-14  1626220800000000000\n",
       "2021-07-15  279502493  2.726997e+08 2021-07-15  1626307200000000000\n",
       "2021-07-16  312799651  2.746431e+08 2021-07-16  1626393600000000000\n",
       "2021-07-17  294531580  2.759330e+08 2021-07-17  1626480000000000000\n",
       "\n",
       "[1577 rows x 4 columns]"
      ]
     },
     "execution_count": 90,
     "metadata": {},
     "output_type": "execute_result"
    }
   ],
   "source": [
    "df3['ts'] = df3.date.values.astype(np.int64)\n",
    "df3"
   ]
  },
  {
   "cell_type": "code",
   "execution_count": 93,
   "metadata": {},
   "outputs": [
    {
     "data": {
      "text/html": [
       "<table class=\"simpletable\">\n",
       "<caption>OLS Regression Results</caption>\n",
       "<tr>\n",
       "  <th>Dep. Variable:</th>         <td>Streams</td>     <th>  R-squared:         </th> <td>   0.210</td> \n",
       "</tr>\n",
       "<tr>\n",
       "  <th>Model:</th>                   <td>OLS</td>       <th>  Adj. R-squared:    </th> <td>   0.210</td> \n",
       "</tr>\n",
       "<tr>\n",
       "  <th>Method:</th>             <td>Least Squares</td>  <th>  F-statistic:       </th> <td>     nan</td> \n",
       "</tr>\n",
       "<tr>\n",
       "  <th>Date:</th>             <td>Thu, 26 Aug 2021</td> <th>  Prob (F-statistic):</th>  <td>   nan</td>  \n",
       "</tr>\n",
       "<tr>\n",
       "  <th>Time:</th>                 <td>19:38:34</td>     <th>  Log-Likelihood:    </th> <td> -29165.</td> \n",
       "</tr>\n",
       "<tr>\n",
       "  <th>No. Observations:</th>      <td>  1577</td>      <th>  AIC:               </th> <td>5.833e+04</td>\n",
       "</tr>\n",
       "<tr>\n",
       "  <th>Df Residuals:</th>          <td>  1576</td>      <th>  BIC:               </th> <td>5.834e+04</td>\n",
       "</tr>\n",
       "<tr>\n",
       "  <th>Df Model:</th>              <td>     0</td>      <th>                     </th>     <td> </td>    \n",
       "</tr>\n",
       "<tr>\n",
       "  <th>Covariance Type:</th>      <td>nonrobust</td>    <th>                     </th>     <td> </td>    \n",
       "</tr>\n",
       "</table>\n",
       "<table class=\"simpletable\">\n",
       "<tr>\n",
       "    <td></td>       <th>coef</th>     <th>std err</th>      <th>t</th>      <th>P>|t|</th>  <th>[0.025</th>    <th>0.975]</th>  \n",
       "</tr>\n",
       "<tr>\n",
       "  <th>const</th> <td> 9.889e-29</td> <td> 2.71e-31</td> <td>  364.602</td> <td> 0.000</td> <td> 9.84e-29</td> <td> 9.94e-29</td>\n",
       "</tr>\n",
       "<tr>\n",
       "  <th>ts</th>    <td> 1.538e-10</td> <td> 4.22e-13</td> <td>  364.602</td> <td> 0.000</td> <td> 1.53e-10</td> <td> 1.55e-10</td>\n",
       "</tr>\n",
       "</table>\n",
       "<table class=\"simpletable\">\n",
       "<tr>\n",
       "  <th>Omnibus:</th>       <td>1067.812</td> <th>  Durbin-Watson:     </th> <td>   0.666</td> \n",
       "</tr>\n",
       "<tr>\n",
       "  <th>Prob(Omnibus):</th>  <td> 0.000</td>  <th>  Jarque-Bera (JB):  </th> <td>31964.933</td>\n",
       "</tr>\n",
       "<tr>\n",
       "  <th>Skew:</th>           <td> 2.722</td>  <th>  Prob(JB):          </th> <td>    0.00</td> \n",
       "</tr>\n",
       "<tr>\n",
       "  <th>Kurtosis:</th>       <td>24.373</td>  <th>  Cond. No.          </th> <td>6.11e+19</td> \n",
       "</tr>\n",
       "</table><br/><br/>Notes:<br/>[1] Standard Errors assume that the covariance matrix of the errors is correctly specified.<br/>[2] The condition number is large, 6.11e+19. This might indicate that there are<br/>strong multicollinearity or other numerical problems."
      ],
      "text/plain": [
       "<class 'statsmodels.iolib.summary.Summary'>\n",
       "\"\"\"\n",
       "                            OLS Regression Results                            \n",
       "==============================================================================\n",
       "Dep. Variable:                Streams   R-squared:                       0.210\n",
       "Model:                            OLS   Adj. R-squared:                  0.210\n",
       "Method:                 Least Squares   F-statistic:                       nan\n",
       "Date:                Thu, 26 Aug 2021   Prob (F-statistic):                nan\n",
       "Time:                        19:38:34   Log-Likelihood:                -29165.\n",
       "No. Observations:                1577   AIC:                         5.833e+04\n",
       "Df Residuals:                    1576   BIC:                         5.834e+04\n",
       "Df Model:                           0                                         \n",
       "Covariance Type:            nonrobust                                         \n",
       "==============================================================================\n",
       "                 coef    std err          t      P>|t|      [0.025      0.975]\n",
       "------------------------------------------------------------------------------\n",
       "const       9.889e-29   2.71e-31    364.602      0.000    9.84e-29    9.94e-29\n",
       "ts          1.538e-10   4.22e-13    364.602      0.000    1.53e-10    1.55e-10\n",
       "==============================================================================\n",
       "Omnibus:                     1067.812   Durbin-Watson:                   0.666\n",
       "Prob(Omnibus):                  0.000   Jarque-Bera (JB):            31964.933\n",
       "Skew:                           2.722   Prob(JB):                         0.00\n",
       "Kurtosis:                      24.373   Cond. No.                     6.11e+19\n",
       "==============================================================================\n",
       "\n",
       "Notes:\n",
       "[1] Standard Errors assume that the covariance matrix of the errors is correctly specified.\n",
       "[2] The condition number is large, 6.11e+19. This might indicate that there are\n",
       "strong multicollinearity or other numerical problems.\n",
       "\"\"\""
      ]
     },
     "execution_count": 93,
     "metadata": {},
     "output_type": "execute_result"
    }
   ],
   "source": [
    "import statsmodels.api as sm\n",
    "\n",
    "X = df3['ts']\n",
    "y = df3['Streams']\n",
    "X = sm.add_constant(X)\n",
    "\n",
    "model = sm.OLS(y, X).fit()\n",
    "\n",
    "model.summary()"
   ]
  },
  {
   "cell_type": "code",
   "execution_count": 112,
   "metadata": {},
   "outputs": [
    {
     "data": {
      "image/png": "[encoded data removed]",
      "text/plain": [
       "<Figure size 432x288 with 1 Axes>"
      ]
     },
     "metadata": {
      "needs_background": "light"
     },
     "output_type": "display_data"
    }
   ],
   "source": [
    "import matplotlib.pyplot as plt\n",
    "\n",
    "plt.plot(df3['ts'], df3['Streams'], 'b', alpha = 0.2, label='data')\n",
    "plt.plot(df3['ts'], model.params[0] + model.params[1]*df3['ts'], 'r', label='regression line')\n",
    "plt.legend()\n",
    "plt.show()"
   ]
  },
  {
   "cell_type": "code",
   "execution_count": 119,
   "metadata": {},
   "outputs": [
    {
     "data": {
      "text/html": [
       "<div>\n",
       "<style scoped>\n",
       "    .dataframe tbody tr th:only-of-type {\n",
       "        vertical-align: middle;\n",
       "    }\n",
       "\n",
       "    .dataframe tbody tr th {\n",
       "        vertical-align: top;\n",
       "    }\n",
       "\n",
       "    .dataframe thead th {\n",
       "        text-align: right;\n",
       "    }\n",
       "</style>\n",
       "<table border=\"1\" class=\"dataframe\">\n",
       "  <thead>\n",
       "    <tr style=\"text-align: right;\">\n",
       "      <th></th>\n",
       "      <th>Streams</th>\n",
       "    </tr>\n",
       "    <tr>\n",
       "      <th>Artist</th>\n",
       "      <th></th>\n",
       "    </tr>\n",
       "  </thead>\n",
       "  <tbody>\n",
       "    <tr>\n",
       "      <th>Post Malone</th>\n",
       "      <td>13513461417</td>\n",
       "    </tr>\n",
       "    <tr>\n",
       "      <th>Ed Sheeran</th>\n",
       "      <td>11450684279</td>\n",
       "    </tr>\n",
       "    <tr>\n",
       "      <th>Drake</th>\n",
       "      <td>9158708130</td>\n",
       "    </tr>\n",
       "    <tr>\n",
       "      <th>Billie Eilish</th>\n",
       "      <td>8570405790</td>\n",
       "    </tr>\n",
       "    <tr>\n",
       "      <th>Ariana Grande</th>\n",
       "      <td>8209907401</td>\n",
       "    </tr>\n",
       "    <tr>\n",
       "      <th>XXXTENTACION</th>\n",
       "      <td>6759777399</td>\n",
       "    </tr>\n",
       "    <tr>\n",
       "      <th>Bad Bunny</th>\n",
       "      <td>6401130360</td>\n",
       "    </tr>\n",
       "    <tr>\n",
       "      <th>The Weeknd</th>\n",
       "      <td>6078051362</td>\n",
       "    </tr>\n",
       "    <tr>\n",
       "      <th>Dua Lipa</th>\n",
       "      <td>5644638436</td>\n",
       "    </tr>\n",
       "    <tr>\n",
       "      <th>Juice WRLD</th>\n",
       "      <td>5448453625</td>\n",
       "    </tr>\n",
       "    <tr>\n",
       "      <th>Travis Scott</th>\n",
       "      <td>5122439267</td>\n",
       "    </tr>\n",
       "    <tr>\n",
       "      <th>The Chainsmokers</th>\n",
       "      <td>4763676884</td>\n",
       "    </tr>\n",
       "    <tr>\n",
       "      <th>Shawn Mendes</th>\n",
       "      <td>4700467415</td>\n",
       "    </tr>\n",
       "    <tr>\n",
       "      <th>J Balvin</th>\n",
       "      <td>4621200773</td>\n",
       "    </tr>\n",
       "    <tr>\n",
       "      <th>Justin Bieber</th>\n",
       "      <td>4162094896</td>\n",
       "    </tr>\n",
       "  </tbody>\n",
       "</table>\n",
       "</div>"
      ],
      "text/plain": [
       "                      Streams\n",
       "Artist                       \n",
       "Post Malone       13513461417\n",
       "Ed Sheeran        11450684279\n",
       "Drake              9158708130\n",
       "Billie Eilish      8570405790\n",
       "Ariana Grande      8209907401\n",
       "XXXTENTACION       6759777399\n",
       "Bad Bunny          6401130360\n",
       "The Weeknd         6078051362\n",
       "Dua Lipa           5644638436\n",
       "Juice WRLD         5448453625\n",
       "Travis Scott       5122439267\n",
       "The Chainsmokers   4763676884\n",
       "Shawn Mendes       4700467415\n",
       "J Balvin           4621200773\n",
       "Justin Bieber      4162094896"
      ]
     },
     "execution_count": 119,
     "metadata": {},
     "output_type": "execute_result"
    }
   ],
   "source": [
    "df_artist = df.groupby('Artist').sum()[['Streams']]\n",
    "df_artist = df_artist.sort_values('Streams', ascending=False)\n",
    "df_artist.head(15)"
   ]
  },
  {
   "cell_type": "code",
   "execution_count": null,
   "metadata": {},
   "outputs": [],
   "source": []
  }
 ],
 "metadata": {
  "kernelspec": {
   "display_name": "Python 3",
   "language": "python",
   "name": "python3"
  },
  "language_info": {
   "codemirror_mode": {
    "name": "ipython",
    "version": 3
   },
   "file_extension": ".py",
   "mimetype": "text/x-python",
   "name": "python",
   "nbconvert_exporter": "python",
   "pygments_lexer": "ipython3",
   "version": "3.8.5"
  }
 },
 "nbformat": 4,
 "nbformat_minor": 4
}
